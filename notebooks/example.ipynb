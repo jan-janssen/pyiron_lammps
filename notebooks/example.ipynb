{
 "cells": [
  {
   "cell_type": "markdown",
   "id": "ad9b7034-b8ff-4a6b-9725-1941dea75983",
   "metadata": {},
   "source": [
    "# Demonstration \n",
    "This example demonstrate the usage of the `pyiron_lammps` LAMMPS parser for simple interatomic potential calculations. Starting with the import of the required packages. In addition to the `pyiron_lammps` package and the atomic simulation environment `ase`, the `os` package and the `subprocess` package from the Python standard library are imported to create the working directory and execute the LAMMPS executable."
   ]
  },
  {
   "cell_type": "code",
   "execution_count": 1,
   "id": "434d5b77-c7f3-4f46-a989-b99c1132997e",
   "metadata": {},
   "outputs": [],
   "source": [
    "import os\n",
    "import subprocess\n",
    "\n",
    "from ase.build import bulk\n",
    "from pyiron_lammps import parse_lammps_output_files, write_lammps_structure"
   ]
  },
  {
   "cell_type": "markdown",
   "id": "09ad39fe-3bbd-49cd-a8d8-9b5e5aed4330",
   "metadata": {},
   "source": [
    "As a first step the working directory is created, in this example it is named `demo`: "
   ]
  },
  {
   "cell_type": "code",
   "execution_count": 2,
   "id": "6eaf3496-9a91-4b1e-bbcd-0a57bc74bcb7",
   "metadata": {},
   "outputs": [],
   "source": [
    "working_directory = \"demo\"\n",
    "os.makedirs(working_directory, exist_ok=True)"
   ]
  },
  {
   "cell_type": "markdown",
   "id": "84f8f027-cd5f-4405-96a3-fe3055bb708b",
   "metadata": {},
   "source": [
    "In addition to the atomistic structure, LAMMPS also requires an input script. These input scripts can vary in complexity, as they can include for loops and other logical structures. For simplicity, the example here is based on just a single `run` command, resulting in a static evaluation of the atomistic structure. For the example the [NiAlH_jea.eam.alloy](https://github.com/lammps/lammps/blob/develop/potentials/NiAlH_jea.eam.alloy) potential is used which is available as part of the LAMMPS repository. Furthermore, the `dump` commands and `thermo` commands for `pyiron_lammps` are already specified in this input script. "
   ]
  },
  {
   "cell_type": "code",
   "execution_count": 3,
   "id": "81408a0e-c811-4038-a43d-f74a1103d847",
   "metadata": {},
   "outputs": [],
   "source": [
    "lammps_input_script = \"\"\"\\\n",
    "units metal\n",
    "dimension 3\n",
    "boundary p p p\n",
    "atom_style atomic\n",
    "\n",
    "read_data lammps.data\n",
    "\n",
    "pair_style eam/alloy\n",
    "pair_coeff * * ../binder/NiAlH_jea.eam.alloy Ni Al H\n",
    "\n",
    "dump 1 all custom 100 dump.out id type xsu ysu zsu fx fy fz vx vy vz\n",
    "dump_modify 1 sort id format line \"%d %d %20.15g %20.15g %20.15g %20.15g %20.15g %20.15g %20.15g %20.15g %20.15g\"\n",
    "thermo_style custom step temp pe etotal pxx pxy pxz pyy pyz pzz vol\n",
    "thermo_modify format float %20.15g\n",
    "thermo 100\n",
    "\n",
    "run 0\n",
    "\"\"\"\n",
    "\n",
    "with open(os.path.join(working_directory, \"lmp.in\"), \"w\") as f:\n",
    "    f.writelines(lammps_input_script)"
   ]
  },
  {
   "cell_type": "markdown",
   "id": "abf59b16-6e02-452f-851d-0e64996e6ac6",
   "metadata": {},
   "source": [
    "After the input script is written the next step is to create the `lammps.data` file which contains the atomistic structure. Here a cubic bulk Aluminium structure is written to the input file. "
   ]
  },
  {
   "cell_type": "code",
   "execution_count": 4,
   "id": "55a507c2-0d78-403e-b8d2-d8ad054befc4",
   "metadata": {},
   "outputs": [],
   "source": [
    "structure = bulk(\"Al\", cubic=True)\n",
    "potential_elements = [\"Ni\", \"Al\", \"H\"]\n",
    "\n",
    "write_lammps_structure(\n",
    "    structure=structure,\n",
    "    potential_elements=potential_elements,\n",
    "    units=\"metal\",\n",
    "    file_name=\"lammps.data\",\n",
    "    working_directory=working_directory,\n",
    ")"
   ]
  },
  {
   "cell_type": "markdown",
   "id": "947d1063-92bd-424a-8dc7-5a87508e30e5",
   "metadata": {},
   "source": [
    "The structure parameter refers to the `ase.atoms.Atoms` structure and the `potential_elements` refers to the list of elements implemented in the specific interatomic potential. For example the `NiAlH_jea.eam.alloy` potential implements the elements Ni, Al and H, so when writing a structure for a simulation with this potential the `potential_elements=[\"Ni\", \"Al\", \"H\"]`. It is important to maintain the order of the elements as LAMMPS internally references the elements based on their index, starting from one. The `units` parameter refers to the LAMMPS internal [units](https://docs.lammps.org/units.html) to convert the `ase.atoms.Atoms` object which is defined in Angstrom to the length scale of the LAMMPS simulation. Finally, file_name parameter and the current working directory `working_directory` parameter are designed to select the location where the LAMMPS structure should be written. With the default parameters the LAMMPS structure is written in the `lammps.data` file in the current directory."
   ]
  },
  {
   "cell_type": "markdown",
   "id": "9e4f4f6d-b9e0-40b4-82e7-9f722d9d96e0",
   "metadata": {},
   "source": [
    "Once all the input files are written to the `working_directory` then the LAMMPS calculation can be executed in an external Process using the `subprocess` package:"
   ]
  },
  {
   "cell_type": "code",
   "execution_count": 5,
   "id": "965d19f7-816c-40f1-bd1c-628215a39d36",
   "metadata": {},
   "outputs": [
    {
     "data": {
      "text/plain": [
       "['LAMMPS (27 Jun 2024)',\n",
       " 'OMP_NUM_THREADS environment is not set. Defaulting to 1 thread. (src/comm.cpp:98)',\n",
       " '  using 1 OpenMP thread(s) per MPI task',\n",
       " 'Reading data file ...',\n",
       " '  orthogonal box = (0 0 0) to (4.05 4.05 4.05)',\n",
       " '  1 by 1 by 1 MPI processor grid',\n",
       " '  reading atoms ...',\n",
       " '  4 atoms',\n",
       " '  read_data CPU = 0.012 seconds',\n",
       " 'Reading eam/alloy potential file ../NiAlH_jea.eam.alloy with DATE: 2007-11-30',\n",
       " '',\n",
       " 'CITE-CITE-CITE-CITE-CITE-CITE-CITE-CITE-CITE-CITE-CITE-CITE-CITE',\n",
       " '',\n",
       " 'Your simulation uses code contributions which should be cited:',\n",
       " '- Type Label Framework: https://doi.org/10.1021/acs.jpcb.3c08419',\n",
       " 'The log file lists these citations in BibTeX format.',\n",
       " '',\n",
       " 'CITE-CITE-CITE-CITE-CITE-CITE-CITE-CITE-CITE-CITE-CITE-CITE-CITE',\n",
       " '',\n",
       " \"WARNING: No fixes with time integration, atoms won't move (src/verlet.cpp:60)\",\n",
       " 'Neighbor list info ...',\n",
       " '  update: every = 1 steps, delay = 0 steps, check = yes',\n",
       " '  max neighbors/atom: 2000, page size: 100000',\n",
       " '  master list distance cutoff = 7.65',\n",
       " '  ghost atom cutoff = 7.65',\n",
       " '  binsize = 3.825, bins = 2 2 2',\n",
       " '  1 neighbor lists, perpetual/occasional/extra = 1 0 0',\n",
       " '  (1) pair eam/alloy, perpetual',\n",
       " '      attributes: half, newton on',\n",
       " '      pair build: half/bin/atomonly/newton',\n",
       " '      stencil: half/bin/3d',\n",
       " '      bin: standard',\n",
       " 'Setting up Verlet run ...',\n",
       " '  Unit style    : metal',\n",
       " '  Current step  : 0',\n",
       " '  Time step     : 0.001',\n",
       " 'Per MPI rank memory allocation (min/avg/max) = 3.209 | 3.209 | 3.209 Mbytes',\n",
       " '   Step          Temp          PotEng         TotEng          Pxx            Pxy            Pxz            Pyy            Pyz            Pzz           Volume    ',\n",
       " '         0                     0    -13.4399999882896    -13.4399999882896    0.039997910625953 -1.74047934710145e-11 -1.60659632040134e-11   0.0399979106393413 -4.01649080100334e-12   0.0399979105804328            66.430125',\n",
       " 'Loop time of 1.396e-06 on 1 procs for 0 steps with 4 atoms',\n",
       " '',\n",
       " '143.3% CPU use with 1 MPI tasks x 1 OpenMP threads',\n",
       " '',\n",
       " 'MPI task timing breakdown:',\n",
       " 'Section |  min time  |  avg time  |  max time  |%varavg| %total',\n",
       " '---------------------------------------------------------------',\n",
       " 'Pair    | 0          | 0          | 0          |   0.0 |  0.00',\n",
       " 'Neigh   | 0          | 0          | 0          |   0.0 |  0.00',\n",
       " 'Comm    | 0          | 0          | 0          |   0.0 |  0.00',\n",
       " 'Output  | 0          | 0          | 0          |   0.0 |  0.00',\n",
       " 'Modify  | 0          | 0          | 0          |   0.0 |  0.00',\n",
       " 'Other   |            | 1.396e-06  |            |       |100.00',\n",
       " '',\n",
       " 'Nlocal:              4 ave           4 max           4 min',\n",
       " 'Histogram: 1 0 0 0 0 0 0 0 0 0',\n",
       " 'Nghost:            360 ave         360 max         360 min',\n",
       " 'Histogram: 1 0 0 0 0 0 0 0 0 0',\n",
       " 'Neighs:            268 ave         268 max         268 min',\n",
       " 'Histogram: 1 0 0 0 0 0 0 0 0 0',\n",
       " '',\n",
       " 'Total # of neighbors = 268',\n",
       " 'Ave neighs/atom = 67',\n",
       " 'Neighbor list builds = 0',\n",
       " 'Dangerous builds = 0',\n",
       " 'Total wall time: 0:00:00',\n",
       " '']"
      ]
     },
     "execution_count": 5,
     "metadata": {},
     "output_type": "execute_result"
    }
   ],
   "source": [
    "command = \"mpiexec -n 1 --oversubscribe lmp_mpi -in lmp.in\"\n",
    "output = subprocess.check_output(\n",
    "    command,\n",
    "    cwd=working_directory,\n",
    "    shell=True,\n",
    "    universal_newlines=True,\n",
    "    env=os.environ.copy(),\n",
    ")\n",
    "output.split(\"\\n\")"
   ]
  },
  {
   "cell_type": "markdown",
   "id": "105927b7-ffa0-452c-b78d-958f57283815",
   "metadata": {},
   "source": [
    "In addition to the raw output returned by the LAMMPS simulation code, LAMMPS also writes multiple output files. These can be parsed with the `parse_lammps_output_files()` function:"
   ]
  },
  {
   "cell_type": "code",
   "execution_count": 6,
   "id": "c083c392-8472-45d3-97aa-0a1d4729f07c",
   "metadata": {},
   "outputs": [
    {
     "data": {
      "text/plain": [
       "{'generic': {'steps': array([0]),\n",
       "  'natoms': array([4.]),\n",
       "  'cells': array([[[4.05000000e+00, 2.47990977e-16, 2.47990977e-16],\n",
       "          [0.00000000e+00, 4.05000000e+00, 2.47990977e-16],\n",
       "          [0.00000000e+00, 0.00000000e+00, 4.05000000e+00]]]),\n",
       "  'indices': array([[0, 0, 0, 0]]),\n",
       "  'forces': array([[[-5.55111512e-17, -3.39907768e-33, -3.39907768e-33],\n",
       "          [ 0.00000000e+00,  8.32667268e-17, -5.55111512e-17],\n",
       "          [ 5.55111512e-17, -5.55111512e-17, -1.66533454e-16],\n",
       "          [ 0.00000000e+00, -2.22044605e-16,  2.77555756e-17]]]),\n",
       "  'velocities': array([[[0., 0., 0.],\n",
       "          [0., 0., 0.],\n",
       "          [0., 0., 0.],\n",
       "          [0., 0., 0.]]]),\n",
       "  'unwrapped_positions': array([[[0.00000000e+00, 0.00000000e+00, 0.00000000e+00],\n",
       "          [0.00000000e+00, 2.02500000e+00, 2.02500000e+00],\n",
       "          [2.02500000e+00, 1.23995488e-16, 2.02500000e+00],\n",
       "          [2.02500000e+00, 2.02500000e+00, 2.47990977e-16]]]),\n",
       "  'positions': array([[[0.00000000e+00, 0.00000000e+00, 0.00000000e+00],\n",
       "          [0.00000000e+00, 2.02500000e+00, 2.02500000e+00],\n",
       "          [2.02500000e+00, 1.23995488e-16, 2.02500000e+00],\n",
       "          [2.02500000e+00, 2.02500000e+00, 2.47990977e-16]]]),\n",
       "  'temperature': array([0.]),\n",
       "  'energy_pot': array([-13.43999999]),\n",
       "  'energy_tot': array([-13.43999999]),\n",
       "  'volume': array([66.430125]),\n",
       "  'pressures': array([[[ 3.99979106e-06, -1.74047910e-15, -1.60659608e-15],\n",
       "          [-1.74047910e-15,  3.99979106e-06, -4.01648835e-16],\n",
       "          [-1.60659608e-15, -4.01648835e-16,  3.99979106e-06]]])},\n",
       " 'lammps': {}}"
      ]
     },
     "execution_count": 6,
     "metadata": {},
     "output_type": "execute_result"
    }
   ],
   "source": [
    "output = parse_lammps_output_files(\n",
    "    working_directory=working_directory,\n",
    "    structure=structure,\n",
    "    potential_elements=potential_elements,\n",
    "    units=\"metal\",\n",
    "    dump_h5_file_name=\"dump.h5\",\n",
    "    dump_out_file_name=\"dump.out\",\n",
    "    log_lammps_file_name=\"log.lammps\",\n",
    ")\n",
    "output"
   ]
  },
  {
   "cell_type": "markdown",
   "id": "6a571c35-ac62-435e-aebe-ce5e42d6953d",
   "metadata": {},
   "source": [
    "In analogy to the `write_lammps_structure()` function the `working_directory` parameter refers to the directory which contains the output files. The `structure` parameter reefers to the `ase.atoms.Atoms` object which should be used as template to parse the structure from the dump files. This structure is again required as LAMMPS internally references elements only by an index, so the template structure is required to map the elements from the interatomic potential back to the elements of the `ase.atoms.Atoms` object. In the same way the `potential_elements` refers to the list of elements implemented in the specific interatomic potential. The `units` parameter refers to the LAMMPS internal [units](https://docs.lammps.org/units.html) to convert the `ase.atoms.Atoms` object which is defined in Angstrom to the length scale of the LAMMPS simulation. Finally, the parameters `dump_h5_file_name`, `dump_out_file_name` and `log_lammps_file_name` refer to the output file names."
   ]
  },
  {
   "cell_type": "code",
   "execution_count": null,
   "id": "a5c8393d-3070-4642-9b5b-2b428b6585f1",
   "metadata": {},
   "outputs": [],
   "source": []
  }
 ],
 "metadata": {
  "kernelspec": {
   "display_name": "Python 3 (ipykernel)",
   "language": "python",
   "name": "python3"
  },
  "language_info": {
   "codemirror_mode": {
    "name": "ipython",
    "version": 3
   },
   "file_extension": ".py",
   "mimetype": "text/x-python",
   "name": "python",
   "nbconvert_exporter": "python",
   "pygments_lexer": "ipython3",
   "version": "3.12.5"
  }
 },
 "nbformat": 4,
 "nbformat_minor": 5
}
